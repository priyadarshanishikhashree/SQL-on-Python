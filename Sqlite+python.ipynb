{
 "cells": [
  {
   "cell_type": "code",
   "execution_count": 3,
   "id": "a96d544d",
   "metadata": {
    "ExecuteTime": {
     "end_time": "2023-04-21T18:16:18.511550Z",
     "start_time": "2023-04-21T18:16:18.495893Z"
    }
   },
   "outputs": [],
   "source": [
    "import sqlite3\n",
    "db=sqlite3.connect('student.db')"
   ]
  },
  {
   "cell_type": "markdown",
   "id": "2b2f678b",
   "metadata": {
    "ExecuteTime": {
     "end_time": "2023-04-21T18:34:13.516936Z",
     "start_time": "2023-04-21T18:34:13.502320Z"
    }
   },
   "source": [
    "# First way to Fetch the data"
   ]
  },
  {
   "cell_type": "code",
   "execution_count": 4,
   "id": "9125936b",
   "metadata": {
    "ExecuteTime": {
     "end_time": "2023-04-21T18:17:53.472353Z",
     "start_time": "2023-04-21T18:17:53.459371Z"
    }
   },
   "outputs": [],
   "source": [
    "c=db.cursor()"
   ]
  },
  {
   "cell_type": "code",
   "execution_count": 5,
   "id": "8f69a4fe",
   "metadata": {
    "ExecuteTime": {
     "end_time": "2023-04-21T18:19:23.101285Z",
     "start_time": "2023-04-21T18:19:23.068957Z"
    }
   },
   "outputs": [
    {
     "data": {
      "text/plain": [
       "<sqlite3.Cursor at 0x1b89d3c5d50>"
      ]
     },
     "execution_count": 5,
     "metadata": {},
     "output_type": "execute_result"
    }
   ],
   "source": [
    "c.execute('create table details ( id number Primary Key, name varchar(20), class number(2), dob date )')"
   ]
  },
  {
   "cell_type": "code",
   "execution_count": 7,
   "id": "ff878f36",
   "metadata": {
    "ExecuteTime": {
     "end_time": "2023-04-21T18:20:37.312348Z",
     "start_time": "2023-04-21T18:20:37.296867Z"
    }
   },
   "outputs": [
    {
     "data": {
      "text/plain": [
       "<sqlite3.Cursor at 0x1b89d3c5d50>"
      ]
     },
     "execution_count": 7,
     "metadata": {},
     "output_type": "execute_result"
    }
   ],
   "source": [
    "c.execute(\"insert into details values(1,'A',2,'01-02-2002')\")"
   ]
  },
  {
   "cell_type": "code",
   "execution_count": 16,
   "id": "68b85c2c",
   "metadata": {
    "ExecuteTime": {
     "end_time": "2023-04-21T18:24:30.387882Z",
     "start_time": "2023-04-21T18:24:30.379247Z"
    }
   },
   "outputs": [
    {
     "data": {
      "text/plain": [
       "<sqlite3.Cursor at 0x1b89d3c5d50>"
      ]
     },
     "execution_count": 16,
     "metadata": {},
     "output_type": "execute_result"
    }
   ],
   "source": [
    "\n",
    "c.execute(\"insert into details values(2,'B',3,'21-05-2002')\")\n",
    "c.execute(\"insert into details values(3,'C',4,'04-12-2002')\")\n",
    "c.execute(\"insert into details values(5,'D',5,'11-08-2002')\")\n",
    "c.execute(\"insert into details values(4,'E',6,'30-03-2002')\")\n",
    "c.execute(\"insert into details values(6,'F',7,'01-02-2002')\")"
   ]
  },
  {
   "cell_type": "code",
   "execution_count": 17,
   "id": "9276e640",
   "metadata": {
    "ExecuteTime": {
     "end_time": "2023-04-21T18:25:01.810735Z",
     "start_time": "2023-04-21T18:25:01.794386Z"
    }
   },
   "outputs": [
    {
     "data": {
      "text/plain": [
       "<sqlite3.Cursor at 0x1b89d3c5d50>"
      ]
     },
     "execution_count": 17,
     "metadata": {},
     "output_type": "execute_result"
    }
   ],
   "source": [
    "c.execute(\"insert into details values(7,'G',2,'81-02-2002')\")"
   ]
  },
  {
   "cell_type": "code",
   "execution_count": 20,
   "id": "535c4d9e",
   "metadata": {
    "ExecuteTime": {
     "end_time": "2023-04-21T18:25:52.777480Z",
     "start_time": "2023-04-21T18:25:52.767657Z"
    }
   },
   "outputs": [
    {
     "name": "stdout",
     "output_type": "stream",
     "text": [
      "<sqlite3.Cursor object at 0x000001B89D3C5D50>\n"
     ]
    }
   ],
   "source": [
    "data=c.execute(\"Select* from details\")\n",
    "print(data) # Won't work since it is a cursor data"
   ]
  },
  {
   "cell_type": "code",
   "execution_count": 22,
   "id": "177650c3",
   "metadata": {
    "ExecuteTime": {
     "end_time": "2023-04-21T18:26:56.942103Z",
     "start_time": "2023-04-21T18:26:56.934376Z"
    }
   },
   "outputs": [],
   "source": [
    "for i in data:\n",
    "    print(i) #Will be executed one by one in loop"
   ]
  },
  {
   "cell_type": "markdown",
   "id": "5f9695b6",
   "metadata": {},
   "source": [
    "# Second way to Fetch the data"
   ]
  },
  {
   "cell_type": "code",
   "execution_count": 24,
   "id": "b1e49649",
   "metadata": {
    "ExecuteTime": {
     "end_time": "2023-04-21T18:28:19.918411Z",
     "start_time": "2023-04-21T18:28:19.891964Z"
    }
   },
   "outputs": [],
   "source": [
    "import pandas as pd\n",
    "tables= pd.read_sql(\"Select * from details\",db)"
   ]
  },
  {
   "cell_type": "code",
   "execution_count": 25,
   "id": "d5c39059",
   "metadata": {
    "ExecuteTime": {
     "end_time": "2023-04-21T18:28:26.739495Z",
     "start_time": "2023-04-21T18:28:26.726579Z"
    }
   },
   "outputs": [
    {
     "name": "stdout",
     "output_type": "stream",
     "text": [
      "   id name  class         dob\n",
      "0   1    A      2  01-02-2002\n",
      "1   2    B      3  21-05-2002\n",
      "2   3    C      4  04-12-2002\n",
      "3   5    D      5  11-08-2002\n",
      "4   4    E      6  30-03-2002\n",
      "5   6    F      7  01-02-2002\n",
      "6   7    G      2  81-02-2002\n"
     ]
    }
   ],
   "source": [
    "print(tables)  #It will work since It is not returning cursor object and no need to fetch one by one"
   ]
  },
  {
   "cell_type": "code",
   "execution_count": 27,
   "id": "d89e5f34",
   "metadata": {
    "ExecuteTime": {
     "end_time": "2023-04-21T18:36:40.409590Z",
     "start_time": "2023-04-21T18:36:40.384887Z"
    }
   },
   "outputs": [],
   "source": [
    "db.commit()"
   ]
  },
  {
   "cell_type": "code",
   "execution_count": 28,
   "id": "0d551a32",
   "metadata": {
    "ExecuteTime": {
     "end_time": "2023-04-21T18:36:45.309832Z",
     "start_time": "2023-04-21T18:36:45.295045Z"
    }
   },
   "outputs": [],
   "source": [
    "db.close()"
   ]
  },
  {
   "cell_type": "code",
   "execution_count": null,
   "id": "62ff55f7",
   "metadata": {},
   "outputs": [],
   "source": []
  }
 ],
 "metadata": {
  "kernelspec": {
   "display_name": "Python 3 (ipykernel)",
   "language": "python",
   "name": "python3"
  },
  "language_info": {
   "codemirror_mode": {
    "name": "ipython",
    "version": 3
   },
   "file_extension": ".py",
   "mimetype": "text/x-python",
   "name": "python",
   "nbconvert_exporter": "python",
   "pygments_lexer": "ipython3",
   "version": "3.9.12"
  },
  "varInspector": {
   "cols": {
    "lenName": 16,
    "lenType": 16,
    "lenVar": 40
   },
   "kernels_config": {
    "python": {
     "delete_cmd_postfix": "",
     "delete_cmd_prefix": "del ",
     "library": "var_list.py",
     "varRefreshCmd": "print(var_dic_list())"
    },
    "r": {
     "delete_cmd_postfix": ") ",
     "delete_cmd_prefix": "rm(",
     "library": "var_list.r",
     "varRefreshCmd": "cat(var_dic_list()) "
    }
   },
   "types_to_exclude": [
    "module",
    "function",
    "builtin_function_or_method",
    "instance",
    "_Feature"
   ],
   "window_display": false
  }
 },
 "nbformat": 4,
 "nbformat_minor": 5
}
